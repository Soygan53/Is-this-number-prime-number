{
  "nbformat": 4,
  "nbformat_minor": 0,
  "metadata": {
    "colab": {
      "provenance": []
    },
    "kernelspec": {
      "name": "python3",
      "display_name": "Python 3"
    },
    "language_info": {
      "name": "python"
    }
  },
  "cells": [
    {
      "cell_type": "code",
      "execution_count": null,
      "metadata": {
        "id": "5tev8MGGbtZu"
      },
      "outputs": [],
      "source": [
        "def is_prime (num):\n",
        "  i=3\n",
        "  if (num<2):\n",
        "    return False\n",
        "  elif (num==2):\n",
        "    return True\n",
        "  elif(num%2 == 0):\n",
        "    return False\n",
        "  while(i<=int(num/2)):\n",
        "    i=i+2\n",
        "    if (num%i == 0):\n",
        "      return False\n",
        "  return True\n",
        "\n",
        "print(is_prime(2))\n",
        "print(is_prime(100))\n",
        "print(is_prime(102))\n",
        "print(is_prime(51))"
      ]
    }
  ]
}