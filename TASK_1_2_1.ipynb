{
  "nbformat": 4,
  "nbformat_minor": 0,
  "metadata": {
    "colab": {
      "provenance": [],
      "collapsed_sections": []
    },
    "kernelspec": {
      "name": "python3",
      "display_name": "Python 3"
    },
    "language_info": {
      "name": "python"
    }
  },
  "cells": [
    {
      "cell_type": "code",
      "execution_count": null,
      "metadata": {
        "id": "5tev8MGGbtZu",
        "colab": {
          "base_uri": "https://localhost:8080/"
        },
        "outputId": "3e04314d-57ce-43f8-87fc-e6b0af459bbd"
      },
      "outputs": [
        {
          "output_type": "stream",
          "name": "stdout",
          "text": [
            "True\n",
            "False\n",
            "False\n",
            "False\n"
          ]
        }
      ],
      "source": [
        "def is_prime (num):#define a function named \"is_prime\"\n",
        "  i=3 #starting point is 3\n",
        "  if (num<2): #if value <2 then this number is not prime number\n",
        "    return False\n",
        "  elif (num==2): #if value equals to 2 than the number is prime number\n",
        "    return True\n",
        "  elif(num%2 == 0): #if remainder of division by two equals 0 than this number is not prime number\n",
        "    return False\n",
        "  while(i<=int(num/2)): #our condition, if our value can divide any number up to its own value than this number is not prime number\n",
        "    i=i+2\n",
        "    if (num%i == 0):\n",
        "      return False\n",
        "  return True\n",
        "\n",
        "print(is_prime(2)) #is '2' prime number?\n",
        "print(is_prime(100)) #is '100' prime number?\n",
        "print(is_prime(102)) #is '102' prime number?\n",
        "print(is_prime(51)) #is '51' prime number?"
      ]
    }
  ]
}